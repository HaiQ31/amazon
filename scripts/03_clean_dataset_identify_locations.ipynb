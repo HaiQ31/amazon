{
 "cells": [
  {
   "cell_type": "code",
   "execution_count": null,
   "metadata": {},
   "outputs": [],
   "source": [
    "import pandas as pd\n",
    "import xlwings as xw\n",
    "import matplotlib.pyplot as plt\n",
    "from datetime import datetime"
   ]
  },
  {
   "cell_type": "code",
   "execution_count": null,
   "metadata": {},
   "outputs": [],
   "source": [
    "# Excel File Version\n",
    "excel_file = 'path/to/file.xlsx'\n",
    "wb = xw.Book(excel_file)\n",
    "sheet = wb.sheets[0]\n",
    "# first end last element in sheet -> maybe just for password protected excel files\n",
    "df = sheet['A1:AX15366'].options(pd.DataFrame, index=False, header=True).value\n",
    "\n",
    "# CSV File Version, with seperation and encoding\n",
    "#df = pd.read_csv('path/to/data.csv', sep='\\t', encoding='utf-8')"
   ]
  },
  {
   "cell_type": "code",
   "execution_count": null,
   "metadata": {},
   "outputs": [],
   "source": [
    "# there are many entries without page action definition or with lazy-load and request\n",
    "# these entries may not direct user interactions, so we remove them for further analysis\n",
    "\n",
    "clean_df = df[ df['page_action'].notnull() & (df['page_action'] != 'lazy-load') & (df['page_action'] != 'request')]\n",
    "clean_df"
   ]
  },
  {
   "cell_type": "code",
   "execution_count": null,
   "metadata": {},
   "outputs": [],
   "source": [
    "# plot countries versus time\n",
    "fig = plt.figure(figsize=(16,3))\n",
    "ax = fig.add_subplot(111)\n",
    "ax.plot_date(pd.to_datetime(clean_df['hit_datetime_utc']), clean_df['geo_ip_country_code'])\n",
    "plt.show()"
   ]
  },
  {
   "cell_type": "code",
   "execution_count": null,
   "metadata": {},
   "outputs": [],
   "source": [
    "# plot states versus time\n",
    "fig = plt.figure(figsize=(16,3))\n",
    "ax = fig.add_subplot(111)\n",
    "ax.plot_date(pd.to_datetime(clean_df['hit_datetime_utc']), clean_df['geo_ip_state_code'])\n",
    "plt.show()"
   ]
  },
  {
   "cell_type": "code",
   "execution_count": null,
   "metadata": {},
   "outputs": [],
   "source": [
    "# plot your isp's versus time\n",
    "fig = plt.figure(figsize=(16,6))\n",
    "ax = fig.add_subplot(111)\n",
    "df['geo_ip_isp_name'].fillna('None', inplace=True)\n",
    "ax.plot_date(pd.to_datetime(clean_df['hit_datetime_utc']), clean_df['geo_ip_isp_name'], fillStyle='none')\n",
    "plt.show()"
   ]
  }
 ],
 "metadata": {
  "kernelspec": {
   "display_name": "Python 3",
   "language": "python",
   "name": "python3"
  },
  "language_info": {
   "codemirror_mode": {
    "name": "ipython",
    "version": 3
   },
   "file_extension": ".py",
   "mimetype": "text/x-python",
   "name": "python",
   "nbconvert_exporter": "python",
   "pygments_lexer": "ipython3",
   "version": "3.7.1"
  }
 },
 "nbformat": 4,
 "nbformat_minor": 2
}
