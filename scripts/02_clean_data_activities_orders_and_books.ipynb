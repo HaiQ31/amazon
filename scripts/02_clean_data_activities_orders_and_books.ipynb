{
 "cells": [
  {
   "cell_type": "code",
   "execution_count": null,
   "metadata": {},
   "outputs": [],
   "source": [
    "import pandas as pd\n",
    "import xlwings as xw\n",
    "import matplotlib.pyplot as plt\n",
    "from datetime import datetime\n",
    "from os\n",
    "\n",
    "EXPORT_PATH = '/full/path/to/export/dir/'"
   ]
  },
  {
   "cell_type": "code",
   "execution_count": null,
   "metadata": {},
   "outputs": [],
   "source": [
    "# Excel File Version\n",
    "excel_file = 'path/to/file.xlsx'\n",
    "wb = xw.Book(excel_file)\n",
    "sheet = wb.sheets[0]\n",
    "# first end last element in sheet -> maybe just for password protected excel files\n",
    "df = sheet['A1:AX15366'].options(pd.DataFrame, index=False, header=True).value\n",
    "\n",
    "# CSV File Version, with seperation and encoding\n",
    "#df = pd.read_csv('path/to/data.csv', sep='\\t', encoding='utf-8')\n",
    "\n",
    "#show dataframe\n",
    "df"
   ]
  },
  {
   "cell_type": "code",
   "execution_count": null,
   "metadata": {},
   "outputs": [],
   "source": [
    "# there are many entries without page action definition or with lazy-load and request\n",
    "# these entries may not direct user interactions, so we remove them for further analysis\n",
    "\n",
    "clean_df = df[ df['page_action'].notnull() & (df['page_action'] != 'lazy-load') & (df['page_action'] != 'request')]\n",
    "clean_df"
   ]
  },
  {
   "cell_type": "code",
   "execution_count": null,
   "metadata": {},
   "outputs": [],
   "source": [
    "# calculate the click count per day on amazon\n",
    "df_hitdate = pd.DataFrame({'count' : clean_df.groupby(['hit_day']).size()}).reset_index()\n",
    "df_hitdate.to_csv(os.path.join(EXPORT_PATH, 'hit_day_count_alldata.csv'),sep='\\t', encoding='utf-8')"
   ]
  },
  {
   "cell_type": "code",
   "execution_count": null,
   "metadata": {},
   "outputs": [],
   "source": [
    "# the following cells are for orders in your data\n",
    "# since amazon uses different keywords for orders, you need to check them manually\n",
    "# save them in a file and have a look\n",
    "pd.value_counts(clean_df['page_action']).to_csv(os.path.join(EXPORT_PATH, 'check_page_actions_for_orders.csv'),sep='\\t', encoding='utf-8')"
   ]
  },
  {
   "cell_type": "code",
   "execution_count": null,
   "metadata": {},
   "outputs": [],
   "source": [
    "# the following query on the data searches for the identified keywords\n",
    "# saves the data for a visualization\n",
    "\n",
    "mb = clean_df.loc[ \n",
    "    (clean_df['page_action'] == 'PlaceOrder-1') |\n",
    "    (clean_df['page_action'] == 'PlaceOrder-2') |\n",
    "    (clean_df['page_action'] == 'PlaceOrder-3') |\n",
    "    (clean_df['page_action'] == 'PlaceOrder-5') |\n",
    "    (clean_df['page_action'] == 'PlaceOrder-6') |\n",
    "    (clean_df['page_action'] == 'PlaceOrder-11') |\n",
    "    (clean_df['page_action'] == 'PlaceOrder-15') |\n",
    "    (clean_df['page_action'] == 'Purchase') ]\n",
    "maybe_orders = mb[['hit_datetime', 'hit_day']]\n",
    "maybe_orders['order'] = True\n",
    "maybe_orders.to_csv(os.path.join(EXPORT_PATH, 'maybe_orders.csv'), sep='\\t', encoding='utf-8')"
   ]
  },
  {
   "cell_type": "code",
   "execution_count": null,
   "metadata": {},
   "outputs": [],
   "source": [
    "# concat activity with orders\n",
    "activity_orders = pd.merge(df_hitdate, maybe_orders, on='hit_day', how='left')\n",
    "del activity_orders['hit_datetime']\n",
    "activity_orders.to_csv(os.path.join(EXPORT_PATH, 'activity_and_orders.csv'), sep='\\t', encoding='utf-8')"
   ]
  },
  {
   "cell_type": "code",
   "execution_count": null,
   "metadata": {},
   "outputs": [],
   "source": [
    "# how many books did you order?\n",
    "# check the data for any 'addtocart' keyword and check if the previous tabname was books (this seems to be a book you added to your cart)\n",
    "books = clean_df.loc[ ((clean_df['page_action'] == 'AddToCart') & (clean_df['from_tab_name'] == 'books')) | ((clean_df['page_action'] == 'AddToCard') & (clean_df['from_tab_name'] == 'books-intl-de'))  ]\n",
    "\n",
    "books.loc[:, 'year'] = books['hit_day'].dt.year\n",
    "books.loc[:, 'month'] = books['hit_day'].dt.month\n",
    "\n",
    "book_count = pd.DataFrame({'count' : books.groupby(['year', 'month']).size()}).reset_index()\n",
    "book_count\n",
    "\n",
    "book_count.to_csv(os.path.join(EXPORT_PATH, 'ordered_books.csv'), sep='\\t', encoding='utf-8')"
   ]
  }
 ],
 "metadata": {
  "kernelspec": {
   "display_name": "Python 3",
   "language": "python",
   "name": "python3"
  },
  "language_info": {
   "codemirror_mode": {
    "name": "ipython",
    "version": 3
   },
   "file_extension": ".py",
   "mimetype": "text/x-python",
   "name": "python",
   "nbconvert_exporter": "python",
   "pygments_lexer": "ipython3",
   "version": "3.7.1"
  }
 },
 "nbformat": 4,
 "nbformat_minor": 2
}
